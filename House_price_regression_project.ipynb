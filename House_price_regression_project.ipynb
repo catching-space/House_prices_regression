{
 "cells": [
  {
   "cell_type": "code",
   "execution_count": null,
   "metadata": {},
   "outputs": [],
   "source": []
  },
  {
   "cell_type": "code",
   "execution_count": 1,
   "metadata": {
    "slideshow": {
     "slide_type": "skip"
    }
   },
   "outputs": [],
   "source": [
    "# 필요한 패키지 import 하는 코드\n",
    "from sklearn.preprocessing import LabelEncoder\n",
    "%matplotlib inline\n",
    "import numpy as np\n",
    "import matplotlib as mpl\n",
    "import matplotlib.pyplot as plt\n",
    "import pandas as pd\n",
    "from patsy import *"
   ]
  },
  {
   "cell_type": "markdown",
   "metadata": {
    "slideshow": {
     "slide_type": "slide"
    }
   },
   "source": [
    "#  회귀분석 프로젝트 수행결과\n",
    "\n",
    "> House Price 예측을 위한 선형회귀모델 구현"
   ]
  },
  {
   "cell_type": "markdown",
   "metadata": {
    "slideshow": {
     "slide_type": "slide"
    }
   },
   "source": [
    "## [ 개 요 ]\n",
    "\n",
    "#### ㅇ 선정 컨텐츠 : Kaggle House Prices: Advanced Regression Techniques\n",
    "   * 컨텐츠 URL : https://www.kaggle.com/c/house-prices-advanced-regression-techniques\n",
    "        \n",
    "#### ㅇ 수행과제 목적 : 종속변수 'SalePrice'에 대한 선형회귀 예측모델 구현\n"
   ]
  },
  {
   "cell_type": "markdown",
   "metadata": {
    "slideshow": {
     "slide_type": "slide"
    }
   },
   "source": [
    "#### ㅇ Dataset 구성 :\n",
    "    1) 학습을 위한 train.csv 와 모델 TEST를 위한 test.csv\n",
    "\n",
    "    2) column : ID, 종속변수 SalePrice, 독립변수 HeatingQC(house의 난방 퀄리티), YearBuilt(house가 지어진 년도) 등 총 80개로 구성\n",
    "    \n",
    "    3) row : 1460개 (test.csv : 1459개)"
   ]
  },
  {
   "cell_type": "markdown",
   "metadata": {
    "slideshow": {
     "slide_type": "slide"
    }
   },
   "source": [
    "#### ㅇ 선형회귀 예측모델 구현요약\n",
    "\n",
    "- 모델 성능측정 결과\n",
    "\n",
    "    1) cross validation\n",
    "    \n",
    "      -> 평균 R-squared 0.92\n",
    "\n",
    "    2) kaggle competition \n",
    "    \n",
    "    \n",
    "     - 정규선형회귀 미적용 모델 : 0.14787 Score , 4400 그룹 중 2637 rank "
   ]
  },
  {
   "attachments": {
    "%EC%A0%95%EA%B7%9C%ED%99%94X.png": {
     "image/png": "[encoded data removed]"
    }
   },
   "cell_type": "markdown",
   "metadata": {
    "slideshow": {
     "slide_type": "fragment"
    }
   },
   "source": [
    "![%EC%A0%95%EA%B7%9C%ED%99%94X.png](attachment:%EC%A0%95%EA%B7%9C%ED%99%94X.png)"
   ]
  },
  {
   "cell_type": "markdown",
   "metadata": {
    "slideshow": {
     "slide_type": "slide"
    }
   },
   "source": [
    "      - 정규선형회귀 적용모델 : 0.14632 Score / 4400 그룹 중 2560 rank \n",
    "      (alpha = 0.00009를 적용한 LASSO 모델)"
   ]
  },
  {
   "attachments": {
    "%EC%A0%95%EA%B7%9C%ED%99%94O.png": {
     "image/png": "[encoded data removed]"
    }
   },
   "cell_type": "markdown",
   "metadata": {
    "slideshow": {
     "slide_type": "fragment"
    }
   },
   "source": [
    "![%EC%A0%95%EA%B7%9C%ED%99%94O.png](attachment:%EC%A0%95%EA%B7%9C%ED%99%94O.png)"
   ]
  },
  {
   "cell_type": "markdown",
   "metadata": {
    "slideshow": {
     "slide_type": "subslide"
    }
   },
   "source": [
    "- 모델구성 기준\n",
    "\n",
    "    1) condition number를 높이는 변수 제거\n",
    "  \n",
    "    2) 부분회귀플롯으로 상대적으로 높은 상관관계를 보이는 독립변수 채택"
   ]
  },
  {
   "cell_type": "markdown",
   "metadata": {
    "slideshow": {
     "slide_type": "slide"
    }
   },
   "source": [
    "## [ 목 차 ]\n",
    "\n",
    "### 1. '데이터 탐색 및 전처리' 결과\n",
    "\n",
    "### 2. '선형회귀 예측모델 구현' 결과"
   ]
  },
  {
   "cell_type": "markdown",
   "metadata": {
    "slideshow": {
     "slide_type": "skip"
    }
   },
   "source": [
    "----------------------------------------------------"
   ]
  },
  {
   "cell_type": "markdown",
   "metadata": {
    "slideshow": {
     "slide_type": "slide"
    }
   },
   "source": [
    "## [  단계별 수행결과   ]"
   ]
  },
  {
   "cell_type": "markdown",
   "metadata": {
    "slideshow": {
     "slide_type": "slide"
    }
   },
   "source": [
    "## 1. '데이터 탐색 및  전처리' 결과\n",
    "\n",
    "#### * 칼럼별 description\n",
    "- 집의 전체적인 모양새 (건축양식, 재료, 지어진 연도 ,지붕 스타일, 평가 점수, 울타리, 테라스 종류, 테라스 면적)\n",
    "- 집 세부사항 (면적, 방 개수, 화장실 종류별 개수, 부엌 개수)\n",
    "- Utility (난방여부, 난방방식, 전기, 벽난로)\n",
    "- 주변위치를 고려한 특징 (단지, 도로까지의 거리, 경사, 인접도로 종류)\n",
    "- 차고 (허용 대수, 면적, 연식, 평가 점수)\n",
    "- 기타 사항 (매매 방식, 팔린 연도, 등)\n"
   ]
  },
  {
   "cell_type": "markdown",
   "metadata": {
    "slideshow": {
     "slide_type": "slide"
    }
   },
   "source": [
    "#### 1) 범주형 col\n",
    "\n",
    "- 순수한 범주형 col\n",
    "\n",
    "MasVnrType"
   ]
  },
  {
   "cell_type": "code",
   "execution_count": 2,
   "metadata": {
    "slideshow": {
     "slide_type": "fragment"
    }
   },
   "outputs": [
    {
     "data": {
      "text/plain": [
       "DesignMatrix with shape (1452, 4)\n",
       "  Columns:\n",
       "    ['C(MasVnrType)[BrkCmn]',\n",
       "     'C(MasVnrType)[BrkFace]',\n",
       "     'C(MasVnrType)[None]',\n",
       "     'C(MasVnrType)[Stone]']\n",
       "  Terms:\n",
       "    'C(MasVnrType)' (columns 0:4)\n",
       "  (to view full data, use np.asarray(this_obj))"
      ]
     },
     "execution_count": 2,
     "metadata": {},
     "output_type": "execute_result"
    }
   ],
   "source": [
    "## train 데이터 로드\n",
    "df = pd.read_csv(\"train.csv\")\n",
    "\n",
    "dmatrix(\"0+ C(MasVnrType)\",df)"
   ]
  },
  {
   "cell_type": "markdown",
   "metadata": {
    "slideshow": {
     "slide_type": "slide"
    }
   },
   "source": [
    "- ordinal한 범주형 col\n",
    "\n",
    "GarageQual"
   ]
  },
  {
   "cell_type": "code",
   "execution_count": 3,
   "metadata": {
    "slideshow": {
     "slide_type": "fragment"
    }
   },
   "outputs": [
    {
     "data": {
      "text/plain": [
       "DesignMatrix with shape (1379, 5)\n",
       "  Columns:\n",
       "    ['C(GarageQual)[Ex]',\n",
       "     'C(GarageQual)[Fa]',\n",
       "     'C(GarageQual)[Gd]',\n",
       "     'C(GarageQual)[Po]',\n",
       "     'C(GarageQual)[TA]']\n",
       "  Terms:\n",
       "    'C(GarageQual)' (columns 0:5)\n",
       "  (to view full data, use np.asarray(this_obj))"
      ]
     },
     "execution_count": 3,
     "metadata": {},
     "output_type": "execute_result"
    }
   ],
   "source": [
    "dmatrix(\"0+ C(GarageQual)\",df)"
   ]
  },
  {
   "cell_type": "markdown",
   "metadata": {
    "slideshow": {
     "slide_type": "slide"
    }
   },
   "source": [
    "\n",
    "#### 2) 실수형 col\n",
    "\n",
    "- 실제 실수형 col\n",
    "\n",
    "GarageArea"
   ]
  },
  {
   "cell_type": "code",
   "execution_count": 4,
   "metadata": {
    "slideshow": {
     "slide_type": "fragment"
    }
   },
   "outputs": [
    {
     "data": {
      "text/plain": [
       "1455    460\n",
       "1456    500\n",
       "1457    252\n",
       "1458    240\n",
       "1459    276\n",
       "Name: GarageArea, dtype: int64"
      ]
     },
     "execution_count": 4,
     "metadata": {},
     "output_type": "execute_result"
    }
   ],
   "source": [
    "df['GarageArea'].tail()"
   ]
  },
  {
   "cell_type": "markdown",
   "metadata": {
    "slideshow": {
     "slide_type": "slide"
    }
   },
   "source": [
    "- 순수한 범주형 col\n",
    "\n",
    "MSSubclass"
   ]
  },
  {
   "cell_type": "code",
   "execution_count": 5,
   "metadata": {
    "slideshow": {
     "slide_type": "fragment"
    }
   },
   "outputs": [
    {
     "data": {
      "text/plain": [
       "DesignMatrix with shape (1460, 15)\n",
       "  Columns:\n",
       "    ['C(MSSubClass)[20]',\n",
       "     'C(MSSubClass)[30]',\n",
       "     'C(MSSubClass)[40]',\n",
       "     'C(MSSubClass)[45]',\n",
       "     'C(MSSubClass)[50]',\n",
       "     'C(MSSubClass)[60]',\n",
       "     'C(MSSubClass)[70]',\n",
       "     'C(MSSubClass)[75]',\n",
       "     'C(MSSubClass)[80]',\n",
       "     'C(MSSubClass)[85]',\n",
       "     'C(MSSubClass)[90]',\n",
       "     'C(MSSubClass)[120]',\n",
       "     'C(MSSubClass)[160]',\n",
       "     'C(MSSubClass)[180]',\n",
       "     'C(MSSubClass)[190]']\n",
       "  Terms:\n",
       "    'C(MSSubClass)' (columns 0:15)\n",
       "  (to view full data, use np.asarray(this_obj))"
      ]
     },
     "execution_count": 5,
     "metadata": {},
     "output_type": "execute_result"
    }
   ],
   "source": [
    "dmatrix(\"0+ C(MSSubClass)\",df)"
   ]
  },
  {
   "cell_type": "markdown",
   "metadata": {
    "slideshow": {
     "slide_type": "slide"
    }
   },
   "source": [
    "### [ Issue ]\n",
    "\n",
    "#### 1) 결측값은 어떻게 처리할 것인가\n",
    "\n",
    "- 결측값 변수 변황 : 'PoolQC','MiscFeature' 등 19개"
   ]
  },
  {
   "cell_type": "code",
   "execution_count": 6,
   "metadata": {
    "slideshow": {
     "slide_type": "fragment"
    }
   },
   "outputs": [
    {
     "data": {
      "text/html": [
       "<div>\n",
       "<style scoped>\n",
       "    .dataframe tbody tr th:only-of-type {\n",
       "        vertical-align: middle;\n",
       "    }\n",
       "\n",
       "    .dataframe tbody tr th {\n",
       "        vertical-align: top;\n",
       "    }\n",
       "\n",
       "    .dataframe thead th {\n",
       "        text-align: right;\n",
       "    }\n",
       "</style>\n",
       "<table border=\"1\" class=\"dataframe\">\n",
       "  <thead>\n",
       "    <tr style=\"text-align: right;\">\n",
       "      <th></th>\n",
       "      <th>Total</th>\n",
       "      <th>Percent</th>\n",
       "    </tr>\n",
       "  </thead>\n",
       "  <tbody>\n",
       "    <tr>\n",
       "      <th>PoolQC</th>\n",
       "      <td>1453</td>\n",
       "      <td>0.995205</td>\n",
       "    </tr>\n",
       "    <tr>\n",
       "      <th>MiscFeature</th>\n",
       "      <td>1406</td>\n",
       "      <td>0.963014</td>\n",
       "    </tr>\n",
       "    <tr>\n",
       "      <th>Alley</th>\n",
       "      <td>1369</td>\n",
       "      <td>0.937671</td>\n",
       "    </tr>\n",
       "    <tr>\n",
       "      <th>Fence</th>\n",
       "      <td>1179</td>\n",
       "      <td>0.807534</td>\n",
       "    </tr>\n",
       "    <tr>\n",
       "      <th>FireplaceQu</th>\n",
       "      <td>690</td>\n",
       "      <td>0.472603</td>\n",
       "    </tr>\n",
       "    <tr>\n",
       "      <th>LotFrontage</th>\n",
       "      <td>259</td>\n",
       "      <td>0.177397</td>\n",
       "    </tr>\n",
       "    <tr>\n",
       "      <th>GarageCond</th>\n",
       "      <td>81</td>\n",
       "      <td>0.055479</td>\n",
       "    </tr>\n",
       "    <tr>\n",
       "      <th>GarageType</th>\n",
       "      <td>81</td>\n",
       "      <td>0.055479</td>\n",
       "    </tr>\n",
       "    <tr>\n",
       "      <th>GarageYrBlt</th>\n",
       "      <td>81</td>\n",
       "      <td>0.055479</td>\n",
       "    </tr>\n",
       "    <tr>\n",
       "      <th>GarageFinish</th>\n",
       "      <td>81</td>\n",
       "      <td>0.055479</td>\n",
       "    </tr>\n",
       "    <tr>\n",
       "      <th>GarageQual</th>\n",
       "      <td>81</td>\n",
       "      <td>0.055479</td>\n",
       "    </tr>\n",
       "    <tr>\n",
       "      <th>BsmtExposure</th>\n",
       "      <td>38</td>\n",
       "      <td>0.026027</td>\n",
       "    </tr>\n",
       "    <tr>\n",
       "      <th>BsmtFinType2</th>\n",
       "      <td>38</td>\n",
       "      <td>0.026027</td>\n",
       "    </tr>\n",
       "    <tr>\n",
       "      <th>BsmtFinType1</th>\n",
       "      <td>37</td>\n",
       "      <td>0.025342</td>\n",
       "    </tr>\n",
       "    <tr>\n",
       "      <th>BsmtCond</th>\n",
       "      <td>37</td>\n",
       "      <td>0.025342</td>\n",
       "    </tr>\n",
       "    <tr>\n",
       "      <th>BsmtQual</th>\n",
       "      <td>37</td>\n",
       "      <td>0.025342</td>\n",
       "    </tr>\n",
       "    <tr>\n",
       "      <th>MasVnrArea</th>\n",
       "      <td>8</td>\n",
       "      <td>0.005479</td>\n",
       "    </tr>\n",
       "    <tr>\n",
       "      <th>MasVnrType</th>\n",
       "      <td>8</td>\n",
       "      <td>0.005479</td>\n",
       "    </tr>\n",
       "    <tr>\n",
       "      <th>Electrical</th>\n",
       "      <td>1</td>\n",
       "      <td>0.000685</td>\n",
       "    </tr>\n",
       "  </tbody>\n",
       "</table>\n",
       "</div>"
      ],
      "text/plain": [
       "              Total   Percent\n",
       "PoolQC         1453  0.995205\n",
       "MiscFeature    1406  0.963014\n",
       "Alley          1369  0.937671\n",
       "Fence          1179  0.807534\n",
       "FireplaceQu     690  0.472603\n",
       "LotFrontage     259  0.177397\n",
       "GarageCond       81  0.055479\n",
       "GarageType       81  0.055479\n",
       "GarageYrBlt      81  0.055479\n",
       "GarageFinish     81  0.055479\n",
       "GarageQual       81  0.055479\n",
       "BsmtExposure     38  0.026027\n",
       "BsmtFinType2     38  0.026027\n",
       "BsmtFinType1     37  0.025342\n",
       "BsmtCond         37  0.025342\n",
       "BsmtQual         37  0.025342\n",
       "MasVnrArea        8  0.005479\n",
       "MasVnrType        8  0.005479\n",
       "Electrical        1  0.000685"
      ]
     },
     "execution_count": 6,
     "metadata": {},
     "output_type": "execute_result"
    }
   ],
   "source": [
    "total = df.isnull().sum().sort_values(ascending=False)\n",
    "percent = (df.isnull().sum()/df.isnull().count()).sort_values(ascending=False)\n",
    "missing_data = pd.concat([total, percent], axis=1, keys=['Total', 'Percent'])\n",
    "missing_data.head(19)"
   ]
  },
  {
   "cell_type": "markdown",
   "metadata": {
    "slideshow": {
     "slide_type": "slide"
    }
   },
   "source": [
    "- 'MiscVal','MiscFeature','BsmtExposure','BsmtFinType2' 총 4개 변수 \n",
    "   \n",
    "   -> 최빈값으로 대체"
   ]
  },
  {
   "cell_type": "code",
   "execution_count": 7,
   "metadata": {
    "slideshow": {
     "slide_type": "fragment"
    }
   },
   "outputs": [],
   "source": [
    "df['BsmtExposure'][948] = 'No'\n",
    "df['BsmtFinType2'][332] = 'Unf'\n",
    "\n",
    "for i in range(len(df['MiscVal']+1)):\n",
    "    if df['MiscVal'].values[i] == 0 and df['MiscFeature'].values[i] == 'Shed':\n",
    "        df['MiscVal'].values[i] = df['MiscVal'][df['MiscVal'] != 0].mode()[0]"
   ]
  },
  {
   "cell_type": "markdown",
   "metadata": {
    "slideshow": {
     "slide_type": "slide"
    }
   },
   "source": [
    "- 'LotFrontage' 변수\n",
    "\n",
    "   -> 중앙값으로 대체"
   ]
  },
  {
   "cell_type": "code",
   "execution_count": 8,
   "metadata": {
    "slideshow": {
     "slide_type": "fragment"
    }
   },
   "outputs": [],
   "source": [
    "df['LotFrontage'].fillna(df.groupby('Neighborhood')['LotFrontage']\\\n",
    "                              .transform('median'), inplace=True)"
   ]
  },
  {
   "cell_type": "markdown",
   "metadata": {
    "slideshow": {
     "slide_type": "slide"
    }
   },
   "source": [
    "- 그 외 결측값\n",
    "\n",
    "   -> 범주형데이터는 'None', 실수형 데이터는 '0'으로 대체"
   ]
  },
  {
   "cell_type": "code",
   "execution_count": 9,
   "metadata": {
    "slideshow": {
     "slide_type": "fragment"
    }
   },
   "outputs": [],
   "source": [
    "# columns where NaN values have meaning e.g. no pool etc.\n",
    "cols_fillna = ['PoolQC','MiscFeature','Alley','Fence','MasVnrType','FireplaceQu',\n",
    "               'GarageQual','GarageCond','GarageFinish','GarageType', 'Electrical',\n",
    "               'KitchenQual', 'SaleType', 'Functional', 'Exterior2nd', 'Exterior1st',\n",
    "               'BsmtExposure','BsmtCond','BsmtQual','BsmtFinType1','BsmtFinType2',\n",
    "               'MSZoning', 'Utilities']\n",
    "\n",
    "# replace 'NaN' with 'None' in these columns\n",
    "for col in cols_fillna:\n",
    "    df[col].fillna('None',inplace=True)\n",
    "\n",
    "df.fillna(0, inplace=True)"
   ]
  },
  {
   "cell_type": "markdown",
   "metadata": {
    "slideshow": {
     "slide_type": "slide"
    }
   },
   "source": [
    "#### 2) 아웃라이어 제거\n"
   ]
  },
  {
   "cell_type": "code",
   "execution_count": 10,
   "metadata": {
    "slideshow": {
     "slide_type": "fragment"
    }
   },
   "outputs": [
    {
     "data": {
      "text/plain": [
       "<matplotlib.collections.PathCollection at 0x10e103a20>"
      ]
     },
     "execution_count": 10,
     "metadata": {},
     "output_type": "execute_result"
    },
    {
     "data": {
      "image/png": "[encoded data removed]",
      "text/plain": [
       "<Figure size 432x288 with 1 Axes>"
      ]
     },
     "metadata": {
      "image/png": {
       "height": 254,
       "width": 416
      },
      "needs_background": "light"
     },
     "output_type": "display_data"
    }
   ],
   "source": [
    "plt.scatter(df[\"GrLivArea\"], df[\"SalePrice\"])\n",
    "plt.scatter(df[\"GrLivArea\"][523], df[\"SalePrice\"][523], s=200, c='r', alpha = 0.5)\n",
    "plt.scatter(df[\"GrLivArea\"][1298], df[\"SalePrice\"][1298], s=200, c='r', alpha = 0.5)"
   ]
  },
  {
   "cell_type": "code",
   "execution_count": 11,
   "metadata": {
    "slideshow": {
     "slide_type": "fragment"
    }
   },
   "outputs": [],
   "source": [
    "df = df.drop(df.index[1298])\n",
    "df = df.drop(df.index[523])"
   ]
  },
  {
   "cell_type": "markdown",
   "metadata": {
    "slideshow": {
     "slide_type": "slide"
    }
   },
   "source": [
    "### V 소결론 : 결측값 및 아웃라이어 제거로 선형회귀 예측모델의 구현을 위한 사전작업 수행"
   ]
  },
  {
   "cell_type": "markdown",
   "metadata": {
    "slideshow": {
     "slide_type": "skip"
    }
   },
   "source": [
    "-----------------------------------------"
   ]
  },
  {
   "cell_type": "markdown",
   "metadata": {
    "slideshow": {
     "slide_type": "slide"
    }
   },
   "source": [
    "## 2. '선형회귀 예측모델 구현' 결과\n",
    "\n",
    "### [ Issue ]\n",
    "\n",
    "#### 1) 80개에 달하는 독립변수 중 어떤 변수를 모델에 활용할 것인가\n",
    "- 종속변수와 상관관계가 있는 독립변수 탐색\n",
    "  \n",
    "  -> 80개에 달하는 칼럼에 대해 순차적으로 탐색 & 토의\n",
    "  \n",
    "  \n",
    "- boxplot, correlation heatmap을 이용 saleprice와 상관관계가 있는 독립변수를 채택\n",
    "- 부분회귀플롯을 이용 상관관계가 있는 독립변수를 채택"
   ]
  },
  {
   "cell_type": "markdown",
   "metadata": {
    "slideshow": {
     "slide_type": "slide"
    }
   },
   "source": [
    "#### 2) 최상의 Perfomance 성능구현을 위해 어떻게 할 것인가\n",
    "- '독립변수 구성 재검토 <-> 모델구성' 반복시행으로 모델의 performance 향상시도\n",
    "- kaggle contest summit으로 실질적인 모델의 performance 확인\n",
    "\n",
    "#### 3) 모델의 신뢰성을 의심할만한 요소가 있지는 않은가\n",
    "- 잔차정규성 검증 등 모델의 신뢰성 확인 \n",
    "- 파이썬코드 구현상 오류발생여부 최종확인\n"
   ]
  },
  {
   "cell_type": "markdown",
   "metadata": {
    "slideshow": {
     "slide_type": "slide"
    }
   },
   "source": [
    "### [ 선형회귀 예측모델 구현결과 ] \n",
    "-> 종속변수 SalePrice에 대한 StatsModels R스타일 선형회귀분석모델 도출"
   ]
  },
  {
   "attachments": {
    "1.png": {
     "image/png": "[encoded data removed]"
    }
   },
   "cell_type": "markdown",
   "metadata": {
    "slideshow": {
     "slide_type": "fragment"
    }
   },
   "source": [
    "![1.png](attachment:1.png)"
   ]
  },
  {
   "cell_type": "markdown",
   "metadata": {
    "slideshow": {
     "slide_type": "slide"
    }
   },
   "source": [
    "#### 1) 모델구성 :  'OverallQual' 등 15개의 독립변수 조합\n",
    "\n",
    "- np.log(SalePrice) (종속변수) \n",
    " \n",
    "  -> 데이터가 정규분포로 가까워지도록 종속변수 제곱근 변수변환 조치\n",
    "\n",
    "\n",
    "- scale(MasVnrArea) 등 실수형 데이터 8건 \n",
    "\n",
    "  -> 변수별 데이터 수치범위가 상이하기 때문에 scale처리\n",
    "  \n",
    "\n",
    "- C(Neighborhood) 등 범주형 데이터 4건 \n",
    "\n",
    "  -> 'C()' 연산자를 적용하여 범주형 데이터임을 명시적으로 지정\n",
    "  \n",
    "  \n",
    "- C(OverallQual, Poly), C(GarageQual, Poly), C(BsmtExposure, Poly) 총 세건\n",
    "\n",
    "  -> ordinal한 범주형 변수를 활용하기 위해 'category' 데이터 타입으로 변경, 'statsmodel Orthogonal Polynomial Coding' 처리"
   ]
  },
  {
   "cell_type": "code",
   "execution_count": 12,
   "metadata": {
    "slideshow": {
     "slide_type": "slide"
    }
   },
   "outputs": [],
   "source": [
    "## OverallQual 변수 데이터 타입 'category' 으로 변경 \n",
    "df['OverallQual'] = df[\"OverallQual\"].astype('category')\n",
    "\n",
    "## GarageQual 데이터 타입 'category' 으로 변경, 'statsmodel Orthogonal Polynomial Coding' 처리\n",
    "df[\"GarageQual\"] = df[\"GarageQual\"].astype('category')\n",
    "df[\"GarageQual\"].cat.reorder_categories(['None', 'Po', 'Fa', 'TA', 'Gd', 'Ex'], inplace = True)\n",
    "le = LabelEncoder()\n",
    "le.fit(['None', 'Po', 'Fa', 'TA', 'Gd', 'Ex'])\n",
    "GarageQual_dict = {'None': 0, 'Po': 1, 'Fa' : 2, 'TA' : 3, 'Gd' : 4, 'Ex' :5}\n",
    "df[\"GarageQual\"] = np.vectorize(GarageQual_dict.get)(df[\"GarageQual\"])\n",
    "\n",
    "## BsmtExposure 데이터 타입 'category' 으로 변경, 'statsmodel Orthogonal Polynomial Coding' 처리\n",
    "df[\"BsmtExposure\"] = df[\"BsmtExposure\"].astype('category')\n",
    "df['BsmtExposure'].cat.reorder_categories(['None', 'No', 'Mn', 'Av', 'Gd'], inplace=True)\n",
    "le.fit(['None', 'No', 'Mn', 'Av', 'Gd'])\n",
    "BsmtExposure_dict = {'None' : 0,'No' : 1, 'Mn' : 2, 'Av': 3, 'Gd' : 4}\n",
    "df['BsmtExposure'] = np.vectorize(BsmtExposure_dict.get)(df['BsmtExposure'])"
   ]
  },
  {
   "cell_type": "markdown",
   "metadata": {
    "slideshow": {
     "slide_type": "slide"
    }
   },
   "source": [
    "#### 2) 모델의 성능 확인\n",
    "- model summary"
   ]
  },
  {
   "cell_type": "code",
   "execution_count": 13,
   "metadata": {
    "scrolled": false,
    "slideshow": {
     "slide_type": "slide"
    }
   },
   "outputs": [
    {
     "data": {
      "text/html": [
       "<table class=\"simpletable\">\n",
       "<caption>OLS Regression Results</caption>\n",
       "<tr>\n",
       "  <th>Dep. Variable:</th>    <td>np.log(SalePrice)</td> <th>  R-squared:         </th> <td>   0.892</td>\n",
       "</tr>\n",
       "<tr>\n",
       "  <th>Model:</th>                   <td>OLS</td>        <th>  Adj. R-squared:    </th> <td>   0.888</td>\n",
       "</tr>\n",
       "<tr>\n",
       "  <th>Method:</th>             <td>Least Squares</td>   <th>  F-statistic:       </th> <td>   211.6</td>\n",
       "</tr>\n",
       "<tr>\n",
       "  <th>Date:</th>             <td>Fri, 16 Nov 2018</td>  <th>  Prob (F-statistic):</th>  <td>  0.00</td> \n",
       "</tr>\n",
       "<tr>\n",
       "  <th>Time:</th>                 <td>18:56:09</td>      <th>  Log-Likelihood:    </th> <td>  894.53</td>\n",
       "</tr>\n",
       "<tr>\n",
       "  <th>No. Observations:</th>      <td>  1458</td>       <th>  AIC:               </th> <td>  -1677.</td>\n",
       "</tr>\n",
       "<tr>\n",
       "  <th>Df Residuals:</th>          <td>  1402</td>       <th>  BIC:               </th> <td>  -1381.</td>\n",
       "</tr>\n",
       "<tr>\n",
       "  <th>Df Model:</th>              <td>    55</td>       <th>                     </th>     <td> </td>   \n",
       "</tr>\n",
       "<tr>\n",
       "  <th>Covariance Type:</th>      <td>nonrobust</td>     <th>                     </th>     <td> </td>   \n",
       "</tr>\n",
       "</table>\n",
       "<table class=\"simpletable\">\n",
       "<tr>\n",
       "                 <td></td>                    <th>coef</th>     <th>std err</th>      <th>t</th>      <th>P>|t|</th>  <th>[0.025</th>    <th>0.975]</th>  \n",
       "</tr>\n",
       "<tr>\n",
       "  <th>C(OverallQual, Poly).Constant</th>   <td>   11.6806</td> <td>    0.058</td> <td>  203.035</td> <td> 0.000</td> <td>   11.568</td> <td>   11.793</td>\n",
       "</tr>\n",
       "<tr>\n",
       "  <th>C(OverallQual, Poly).Linear</th>     <td>    0.9123</td> <td>    0.068</td> <td>   13.354</td> <td> 0.000</td> <td>    0.778</td> <td>    1.046</td>\n",
       "</tr>\n",
       "<tr>\n",
       "  <th>C(OverallQual, Poly).Quadratic</th>  <td>   -0.0696</td> <td>    0.057</td> <td>   -1.213</td> <td> 0.225</td> <td>   -0.182</td> <td>    0.043</td>\n",
       "</tr>\n",
       "<tr>\n",
       "  <th>C(OverallQual, Poly).Cubic</th>      <td>    0.0484</td> <td>    0.050</td> <td>    0.976</td> <td> 0.329</td> <td>   -0.049</td> <td>    0.146</td>\n",
       "</tr>\n",
       "<tr>\n",
       "  <th>C(OverallQual, Poly)^4</th>          <td>    0.0293</td> <td>    0.049</td> <td>    0.595</td> <td> 0.552</td> <td>   -0.067</td> <td>    0.126</td>\n",
       "</tr>\n",
       "<tr>\n",
       "  <th>C(OverallQual, Poly)^5</th>          <td>   -0.1488</td> <td>    0.047</td> <td>   -3.169</td> <td> 0.002</td> <td>   -0.241</td> <td>   -0.057</td>\n",
       "</tr>\n",
       "<tr>\n",
       "  <th>C(OverallQual, Poly)^6</th>          <td>    0.0401</td> <td>    0.040</td> <td>    1.014</td> <td> 0.311</td> <td>   -0.038</td> <td>    0.118</td>\n",
       "</tr>\n",
       "<tr>\n",
       "  <th>C(OverallQual, Poly)^7</th>          <td>   -0.0516</td> <td>    0.029</td> <td>   -1.795</td> <td> 0.073</td> <td>   -0.108</td> <td>    0.005</td>\n",
       "</tr>\n",
       "<tr>\n",
       "  <th>C(OverallQual, Poly)^8</th>          <td>    0.0015</td> <td>    0.018</td> <td>    0.083</td> <td> 0.934</td> <td>   -0.034</td> <td>    0.037</td>\n",
       "</tr>\n",
       "<tr>\n",
       "  <th>C(OverallQual, Poly)^9</th>          <td>   -0.0068</td> <td>    0.010</td> <td>   -0.662</td> <td> 0.508</td> <td>   -0.027</td> <td>    0.013</td>\n",
       "</tr>\n",
       "<tr>\n",
       "  <th>C(Neighborhood)[T.Blueste]</th>      <td>   -0.1260</td> <td>    0.101</td> <td>   -1.244</td> <td> 0.214</td> <td>   -0.325</td> <td>    0.073</td>\n",
       "</tr>\n",
       "<tr>\n",
       "  <th>C(Neighborhood)[T.BrDale]</th>       <td>   -0.2406</td> <td>    0.049</td> <td>   -4.861</td> <td> 0.000</td> <td>   -0.338</td> <td>   -0.144</td>\n",
       "</tr>\n",
       "<tr>\n",
       "  <th>C(Neighborhood)[T.BrkSide]</th>      <td>   -0.0408</td> <td>    0.040</td> <td>   -1.010</td> <td> 0.313</td> <td>   -0.120</td> <td>    0.038</td>\n",
       "</tr>\n",
       "<tr>\n",
       "  <th>C(Neighborhood)[T.ClearCr]</th>      <td>    0.0475</td> <td>    0.044</td> <td>    1.070</td> <td> 0.285</td> <td>   -0.040</td> <td>    0.135</td>\n",
       "</tr>\n",
       "<tr>\n",
       "  <th>C(Neighborhood)[T.CollgCr]</th>      <td>    0.0353</td> <td>    0.035</td> <td>    0.997</td> <td> 0.319</td> <td>   -0.034</td> <td>    0.105</td>\n",
       "</tr>\n",
       "<tr>\n",
       "  <th>C(Neighborhood)[T.Crawfor]</th>      <td>    0.1072</td> <td>    0.040</td> <td>    2.673</td> <td> 0.008</td> <td>    0.029</td> <td>    0.186</td>\n",
       "</tr>\n",
       "<tr>\n",
       "  <th>C(Neighborhood)[T.Edwards]</th>      <td>   -0.0625</td> <td>    0.038</td> <td>   -1.629</td> <td> 0.104</td> <td>   -0.138</td> <td>    0.013</td>\n",
       "</tr>\n",
       "<tr>\n",
       "  <th>C(Neighborhood)[T.Gilbert]</th>      <td>    0.0115</td> <td>    0.037</td> <td>    0.308</td> <td> 0.758</td> <td>   -0.062</td> <td>    0.085</td>\n",
       "</tr>\n",
       "<tr>\n",
       "  <th>C(Neighborhood)[T.IDOTRR]</th>       <td>   -0.1976</td> <td>    0.043</td> <td>   -4.547</td> <td> 0.000</td> <td>   -0.283</td> <td>   -0.112</td>\n",
       "</tr>\n",
       "<tr>\n",
       "  <th>C(Neighborhood)[T.MeadowV]</th>      <td>   -0.2414</td> <td>    0.049</td> <td>   -4.938</td> <td> 0.000</td> <td>   -0.337</td> <td>   -0.146</td>\n",
       "</tr>\n",
       "<tr>\n",
       "  <th>C(Neighborhood)[T.Mitchel]</th>      <td>   -0.0114</td> <td>    0.040</td> <td>   -0.286</td> <td> 0.775</td> <td>   -0.090</td> <td>    0.067</td>\n",
       "</tr>\n",
       "<tr>\n",
       "  <th>C(Neighborhood)[T.NAmes]</th>        <td>   -0.0106</td> <td>    0.037</td> <td>   -0.288</td> <td> 0.773</td> <td>   -0.083</td> <td>    0.061</td>\n",
       "</tr>\n",
       "<tr>\n",
       "  <th>C(Neighborhood)[T.NPkVill]</th>      <td>   -0.0386</td> <td>    0.058</td> <td>   -0.669</td> <td> 0.503</td> <td>   -0.152</td> <td>    0.074</td>\n",
       "</tr>\n",
       "<tr>\n",
       "  <th>C(Neighborhood)[T.NWAmes]</th>       <td>    0.0048</td> <td>    0.038</td> <td>    0.127</td> <td> 0.899</td> <td>   -0.070</td> <td>    0.079</td>\n",
       "</tr>\n",
       "<tr>\n",
       "  <th>C(Neighborhood)[T.NoRidge]</th>      <td>    0.1050</td> <td>    0.042</td> <td>    2.505</td> <td> 0.012</td> <td>    0.023</td> <td>    0.187</td>\n",
       "</tr>\n",
       "<tr>\n",
       "  <th>C(Neighborhood)[T.NridgHt]</th>      <td>    0.0983</td> <td>    0.039</td> <td>    2.522</td> <td> 0.012</td> <td>    0.022</td> <td>    0.175</td>\n",
       "</tr>\n",
       "<tr>\n",
       "  <th>C(Neighborhood)[T.OldTown]</th>      <td>   -0.1465</td> <td>    0.039</td> <td>   -3.803</td> <td> 0.000</td> <td>   -0.222</td> <td>   -0.071</td>\n",
       "</tr>\n",
       "<tr>\n",
       "  <th>C(Neighborhood)[T.SWISU]</th>        <td>   -0.0628</td> <td>    0.046</td> <td>   -1.377</td> <td> 0.169</td> <td>   -0.152</td> <td>    0.027</td>\n",
       "</tr>\n",
       "<tr>\n",
       "  <th>C(Neighborhood)[T.Sawyer]</th>       <td>   -0.0202</td> <td>    0.039</td> <td>   -0.519</td> <td> 0.604</td> <td>   -0.097</td> <td>    0.056</td>\n",
       "</tr>\n",
       "<tr>\n",
       "  <th>C(Neighborhood)[T.SawyerW]</th>      <td>    0.0129</td> <td>    0.038</td> <td>    0.335</td> <td> 0.738</td> <td>   -0.063</td> <td>    0.088</td>\n",
       "</tr>\n",
       "<tr>\n",
       "  <th>C(Neighborhood)[T.Somerst]</th>      <td>    0.0578</td> <td>    0.038</td> <td>    1.541</td> <td> 0.123</td> <td>   -0.016</td> <td>    0.131</td>\n",
       "</tr>\n",
       "<tr>\n",
       "  <th>C(Neighborhood)[T.StoneBr]</th>      <td>    0.1551</td> <td>    0.044</td> <td>    3.496</td> <td> 0.000</td> <td>    0.068</td> <td>    0.242</td>\n",
       "</tr>\n",
       "<tr>\n",
       "  <th>C(Neighborhood)[T.Timber]</th>       <td>    0.0276</td> <td>    0.041</td> <td>    0.674</td> <td> 0.500</td> <td>   -0.053</td> <td>    0.108</td>\n",
       "</tr>\n",
       "<tr>\n",
       "  <th>C(Neighborhood)[T.Veenker]</th>      <td>    0.1331</td> <td>    0.054</td> <td>    2.481</td> <td> 0.013</td> <td>    0.028</td> <td>    0.238</td>\n",
       "</tr>\n",
       "<tr>\n",
       "  <th>C(BsmtExposure, Poly).Linear</th>    <td>    0.1605</td> <td>    0.018</td> <td>    8.856</td> <td> 0.000</td> <td>    0.125</td> <td>    0.196</td>\n",
       "</tr>\n",
       "<tr>\n",
       "  <th>C(BsmtExposure, Poly).Quadratic</th> <td>   -0.0332</td> <td>    0.016</td> <td>   -2.029</td> <td> 0.043</td> <td>   -0.065</td> <td>   -0.001</td>\n",
       "</tr>\n",
       "<tr>\n",
       "  <th>C(BsmtExposure, Poly).Cubic</th>     <td>    0.0499</td> <td>    0.011</td> <td>    4.657</td> <td> 0.000</td> <td>    0.029</td> <td>    0.071</td>\n",
       "</tr>\n",
       "<tr>\n",
       "  <th>C(BsmtExposure, Poly)^4</th>         <td>   -0.0002</td> <td>    0.011</td> <td>   -0.015</td> <td> 0.988</td> <td>   -0.022</td> <td>    0.021</td>\n",
       "</tr>\n",
       "<tr>\n",
       "  <th>C(GarageQual, Poly).Linear</th>      <td>    0.1475</td> <td>    0.059</td> <td>    2.510</td> <td> 0.012</td> <td>    0.032</td> <td>    0.263</td>\n",
       "</tr>\n",
       "<tr>\n",
       "  <th>C(GarageQual, Poly).Quadratic</th>   <td>    0.0511</td> <td>    0.046</td> <td>    1.119</td> <td> 0.263</td> <td>   -0.038</td> <td>    0.141</td>\n",
       "</tr>\n",
       "<tr>\n",
       "  <th>C(GarageQual, Poly).Cubic</th>       <td>   -0.0384</td> <td>    0.055</td> <td>   -0.699</td> <td> 0.485</td> <td>   -0.146</td> <td>    0.069</td>\n",
       "</tr>\n",
       "<tr>\n",
       "  <th>C(GarageQual, Poly)^4</th>           <td>    0.0393</td> <td>    0.052</td> <td>    0.760</td> <td> 0.447</td> <td>   -0.062</td> <td>    0.141</td>\n",
       "</tr>\n",
       "<tr>\n",
       "  <th>C(GarageQual, Poly)^5</th>           <td>   -0.0080</td> <td>    0.031</td> <td>   -0.261</td> <td> 0.794</td> <td>   -0.068</td> <td>    0.052</td>\n",
       "</tr>\n",
       "<tr>\n",
       "  <th>C(MasVnrType)[T.BrkFace]</th>        <td>    0.1136</td> <td>    0.036</td> <td>    3.140</td> <td> 0.002</td> <td>    0.043</td> <td>    0.185</td>\n",
       "</tr>\n",
       "<tr>\n",
       "  <th>C(MasVnrType)[T.None]</th>           <td>    0.1110</td> <td>    0.036</td> <td>    3.044</td> <td> 0.002</td> <td>    0.039</td> <td>    0.182</td>\n",
       "</tr>\n",
       "<tr>\n",
       "  <th>C(MasVnrType)[T.Stone]</th>          <td>    0.1478</td> <td>    0.038</td> <td>    3.851</td> <td> 0.000</td> <td>    0.072</td> <td>    0.223</td>\n",
       "</tr>\n",
       "<tr>\n",
       "  <th>C(CentralAir)[T.Y]</th>              <td>    0.1076</td> <td>    0.017</td> <td>    6.253</td> <td> 0.000</td> <td>    0.074</td> <td>    0.141</td>\n",
       "</tr>\n",
       "<tr>\n",
       "  <th>C(PavedDrive)[T.P]</th>              <td>    0.0197</td> <td>    0.029</td> <td>    0.670</td> <td> 0.503</td> <td>   -0.038</td> <td>    0.078</td>\n",
       "</tr>\n",
       "<tr>\n",
       "  <th>C(PavedDrive)[T.Y]</th>              <td>    0.0540</td> <td>    0.017</td> <td>    3.097</td> <td> 0.002</td> <td>    0.020</td> <td>    0.088</td>\n",
       "</tr>\n",
       "<tr>\n",
       "  <th>scale(MasVnrArea)</th>               <td>    0.0063</td> <td>    0.006</td> <td>    1.138</td> <td> 0.255</td> <td>   -0.005</td> <td>    0.017</td>\n",
       "</tr>\n",
       "<tr>\n",
       "  <th>scale(LotArea)</th>                  <td>    0.0240</td> <td>    0.004</td> <td>    5.862</td> <td> 0.000</td> <td>    0.016</td> <td>    0.032</td>\n",
       "</tr>\n",
       "<tr>\n",
       "  <th>scale(YearRemodAdd)</th>             <td>    0.0521</td> <td>    0.005</td> <td>   10.628</td> <td> 0.000</td> <td>    0.042</td> <td>    0.062</td>\n",
       "</tr>\n",
       "<tr>\n",
       "  <th>scale(GrLivArea)</th>                <td>    0.1269</td> <td>    0.006</td> <td>   20.882</td> <td> 0.000</td> <td>    0.115</td> <td>    0.139</td>\n",
       "</tr>\n",
       "<tr>\n",
       "  <th>scale(GarageArea)</th>               <td>    0.0418</td> <td>    0.006</td> <td>    7.315</td> <td> 0.000</td> <td>    0.031</td> <td>    0.053</td>\n",
       "</tr>\n",
       "<tr>\n",
       "  <th>scale(FullBath)</th>                 <td>    0.0056</td> <td>    0.006</td> <td>    1.014</td> <td> 0.311</td> <td>   -0.005</td> <td>    0.017</td>\n",
       "</tr>\n",
       "<tr>\n",
       "  <th>scale(Fireplaces)</th>               <td>    0.0271</td> <td>    0.004</td> <td>    6.044</td> <td> 0.000</td> <td>    0.018</td> <td>    0.036</td>\n",
       "</tr>\n",
       "</table>\n",
       "<table class=\"simpletable\">\n",
       "<tr>\n",
       "  <th>Omnibus:</th>       <td>266.005</td> <th>  Durbin-Watson:     </th> <td>   1.955</td> \n",
       "</tr>\n",
       "<tr>\n",
       "  <th>Prob(Omnibus):</th> <td> 0.000</td>  <th>  Jarque-Bera (JB):  </th> <td> 903.131</td> \n",
       "</tr>\n",
       "<tr>\n",
       "  <th>Skew:</th>          <td>-0.881</td>  <th>  Prob(JB):          </th> <td>7.72e-197</td>\n",
       "</tr>\n",
       "<tr>\n",
       "  <th>Kurtosis:</th>      <td> 6.430</td>  <th>  Cond. No.          </th> <td>    105.</td> \n",
       "</tr>\n",
       "</table><br/><br/>Warnings:<br/>[1] Standard Errors assume that the covariance matrix of the errors is correctly specified."
      ],
      "text/plain": [
       "<class 'statsmodels.iolib.summary.Summary'>\n",
       "\"\"\"\n",
       "                            OLS Regression Results                            \n",
       "==============================================================================\n",
       "Dep. Variable:      np.log(SalePrice)   R-squared:                       0.892\n",
       "Model:                            OLS   Adj. R-squared:                  0.888\n",
       "Method:                 Least Squares   F-statistic:                     211.6\n",
       "Date:                Fri, 16 Nov 2018   Prob (F-statistic):               0.00\n",
       "Time:                        18:56:09   Log-Likelihood:                 894.53\n",
       "No. Observations:                1458   AIC:                            -1677.\n",
       "Df Residuals:                    1402   BIC:                            -1381.\n",
       "Df Model:                          55                                         \n",
       "Covariance Type:            nonrobust                                         \n",
       "===================================================================================================\n",
       "                                      coef    std err          t      P>|t|      [0.025      0.975]\n",
       "---------------------------------------------------------------------------------------------------\n",
       "C(OverallQual, Poly).Constant      11.6806      0.058    203.035      0.000      11.568      11.793\n",
       "C(OverallQual, Poly).Linear         0.9123      0.068     13.354      0.000       0.778       1.046\n",
       "C(OverallQual, Poly).Quadratic     -0.0696      0.057     -1.213      0.225      -0.182       0.043\n",
       "C(OverallQual, Poly).Cubic          0.0484      0.050      0.976      0.329      -0.049       0.146\n",
       "C(OverallQual, Poly)^4              0.0293      0.049      0.595      0.552      -0.067       0.126\n",
       "C(OverallQual, Poly)^5             -0.1488      0.047     -3.169      0.002      -0.241      -0.057\n",
       "C(OverallQual, Poly)^6              0.0401      0.040      1.014      0.311      -0.038       0.118\n",
       "C(OverallQual, Poly)^7             -0.0516      0.029     -1.795      0.073      -0.108       0.005\n",
       "C(OverallQual, Poly)^8              0.0015      0.018      0.083      0.934      -0.034       0.037\n",
       "C(OverallQual, Poly)^9             -0.0068      0.010     -0.662      0.508      -0.027       0.013\n",
       "C(Neighborhood)[T.Blueste]         -0.1260      0.101     -1.244      0.214      -0.325       0.073\n",
       "C(Neighborhood)[T.BrDale]          -0.2406      0.049     -4.861      0.000      -0.338      -0.144\n",
       "C(Neighborhood)[T.BrkSide]         -0.0408      0.040     -1.010      0.313      -0.120       0.038\n",
       "C(Neighborhood)[T.ClearCr]          0.0475      0.044      1.070      0.285      -0.040       0.135\n",
       "C(Neighborhood)[T.CollgCr]          0.0353      0.035      0.997      0.319      -0.034       0.105\n",
       "C(Neighborhood)[T.Crawfor]          0.1072      0.040      2.673      0.008       0.029       0.186\n",
       "C(Neighborhood)[T.Edwards]         -0.0625      0.038     -1.629      0.104      -0.138       0.013\n",
       "C(Neighborhood)[T.Gilbert]          0.0115      0.037      0.308      0.758      -0.062       0.085\n",
       "C(Neighborhood)[T.IDOTRR]          -0.1976      0.043     -4.547      0.000      -0.283      -0.112\n",
       "C(Neighborhood)[T.MeadowV]         -0.2414      0.049     -4.938      0.000      -0.337      -0.146\n",
       "C(Neighborhood)[T.Mitchel]         -0.0114      0.040     -0.286      0.775      -0.090       0.067\n",
       "C(Neighborhood)[T.NAmes]           -0.0106      0.037     -0.288      0.773      -0.083       0.061\n",
       "C(Neighborhood)[T.NPkVill]         -0.0386      0.058     -0.669      0.503      -0.152       0.074\n",
       "C(Neighborhood)[T.NWAmes]           0.0048      0.038      0.127      0.899      -0.070       0.079\n",
       "C(Neighborhood)[T.NoRidge]          0.1050      0.042      2.505      0.012       0.023       0.187\n",
       "C(Neighborhood)[T.NridgHt]          0.0983      0.039      2.522      0.012       0.022       0.175\n",
       "C(Neighborhood)[T.OldTown]         -0.1465      0.039     -3.803      0.000      -0.222      -0.071\n",
       "C(Neighborhood)[T.SWISU]           -0.0628      0.046     -1.377      0.169      -0.152       0.027\n",
       "C(Neighborhood)[T.Sawyer]          -0.0202      0.039     -0.519      0.604      -0.097       0.056\n",
       "C(Neighborhood)[T.SawyerW]          0.0129      0.038      0.335      0.738      -0.063       0.088\n",
       "C(Neighborhood)[T.Somerst]          0.0578      0.038      1.541      0.123      -0.016       0.131\n",
       "C(Neighborhood)[T.StoneBr]          0.1551      0.044      3.496      0.000       0.068       0.242\n",
       "C(Neighborhood)[T.Timber]           0.0276      0.041      0.674      0.500      -0.053       0.108\n",
       "C(Neighborhood)[T.Veenker]          0.1331      0.054      2.481      0.013       0.028       0.238\n",
       "C(BsmtExposure, Poly).Linear        0.1605      0.018      8.856      0.000       0.125       0.196\n",
       "C(BsmtExposure, Poly).Quadratic    -0.0332      0.016     -2.029      0.043      -0.065      -0.001\n",
       "C(BsmtExposure, Poly).Cubic         0.0499      0.011      4.657      0.000       0.029       0.071\n",
       "C(BsmtExposure, Poly)^4            -0.0002      0.011     -0.015      0.988      -0.022       0.021\n",
       "C(GarageQual, Poly).Linear          0.1475      0.059      2.510      0.012       0.032       0.263\n",
       "C(GarageQual, Poly).Quadratic       0.0511      0.046      1.119      0.263      -0.038       0.141\n",
       "C(GarageQual, Poly).Cubic          -0.0384      0.055     -0.699      0.485      -0.146       0.069\n",
       "C(GarageQual, Poly)^4               0.0393      0.052      0.760      0.447      -0.062       0.141\n",
       "C(GarageQual, Poly)^5              -0.0080      0.031     -0.261      0.794      -0.068       0.052\n",
       "C(MasVnrType)[T.BrkFace]            0.1136      0.036      3.140      0.002       0.043       0.185\n",
       "C(MasVnrType)[T.None]               0.1110      0.036      3.044      0.002       0.039       0.182\n",
       "C(MasVnrType)[T.Stone]              0.1478      0.038      3.851      0.000       0.072       0.223\n",
       "C(CentralAir)[T.Y]                  0.1076      0.017      6.253      0.000       0.074       0.141\n",
       "C(PavedDrive)[T.P]                  0.0197      0.029      0.670      0.503      -0.038       0.078\n",
       "C(PavedDrive)[T.Y]                  0.0540      0.017      3.097      0.002       0.020       0.088\n",
       "scale(MasVnrArea)                   0.0063      0.006      1.138      0.255      -0.005       0.017\n",
       "scale(LotArea)                      0.0240      0.004      5.862      0.000       0.016       0.032\n",
       "scale(YearRemodAdd)                 0.0521      0.005     10.628      0.000       0.042       0.062\n",
       "scale(GrLivArea)                    0.1269      0.006     20.882      0.000       0.115       0.139\n",
       "scale(GarageArea)                   0.0418      0.006      7.315      0.000       0.031       0.053\n",
       "scale(FullBath)                     0.0056      0.006      1.014      0.311      -0.005       0.017\n",
       "scale(Fireplaces)                   0.0271      0.004      6.044      0.000       0.018       0.036\n",
       "==============================================================================\n",
       "Omnibus:                      266.005   Durbin-Watson:                   1.955\n",
       "Prob(Omnibus):                  0.000   Jarque-Bera (JB):              903.131\n",
       "Skew:                          -0.881   Prob(JB):                    7.72e-197\n",
       "Kurtosis:                       6.430   Cond. No.                         105.\n",
       "==============================================================================\n",
       "\n",
       "Warnings:\n",
       "[1] Standard Errors assume that the covariance matrix of the errors is correctly specified.\n",
       "\"\"\""
      ]
     },
     "execution_count": 13,
     "metadata": {},
     "output_type": "execute_result"
    }
   ],
   "source": [
    "model = sm.OLS.from_formula(\"np.log(SalePrice) ~ 0 + C(OverallQual, Poly) \\\n",
    "                            + scale(MasVnrArea) + scale(LotArea) + C(Neighborhood) + C(BsmtExposure, Poly) + scale(YearRemodAdd) \\\n",
    "                            + C(GarageQual, Poly) + C(MasVnrType) + C(CentralAir) + scale(GrLivArea) + scale(GarageArea) \\\n",
    "                            + scale(FullBath) + scale(Fireplaces) + C(PavedDrive) + scale(GarageArea)\", df)\n",
    "result = model.fit()\n",
    "result.summary()"
   ]
  },
  {
   "cell_type": "markdown",
   "metadata": {
    "slideshow": {
     "slide_type": "slide"
    }
   },
   "source": [
    "- Cross-validation\n",
    "\n",
    "  -> 과최적화(overfitting)는 일어나지 않은 것으로 판단"
   ]
  },
  {
   "cell_type": "code",
   "execution_count": 14,
   "metadata": {
    "slideshow": {
     "slide_type": "slide"
    }
   },
   "outputs": [
    {
     "name": "stdout",
     "output_type": "stream",
     "text": [
      "train R2 = 0.92595252, test R2 = 0.92479377\n",
      "train R2 = 0.90179872, test R2 = 0.91127732\n",
      "train R2 = 0.91237197, test R2 = 0.93109328\n",
      "train R2 = 0.89836779, test R2 = 0.92725023\n",
      "train R2 = 0.91624406, test R2 = 0.92415947\n"
     ]
    }
   ],
   "source": [
    "## cross-validation 파이썬 코드 구현\n",
    "\n",
    "df_test = df.copy()\n",
    "from sklearn.model_selection import KFold\n",
    "\n",
    "scores = np.zeros(5)\n",
    "cv = KFold(5, shuffle=True, random_state=0)\n",
    "for i, (idx_train, idx_test) in enumerate(cv.split(df)):\n",
    "    df_train = df.iloc[idx_train]\n",
    "    df_test = df.iloc[idx_test]\n",
    "    \n",
    "    cv_model = sm.OLS.from_formula(\"np.log(SalePrice) ~ 0 + C(OverallQual, Poly) \\\n",
    "                            + scale(MasVnrArea) + scale(LotArea) + C(Neighborhood) + C(BsmtExposure, Poly) + scale(YearRemodAdd) \\\n",
    "                            + C(GarageQual, Poly) + C(MasVnrType) + C(CentralAir) + scale(GrLivArea) + scale(GarageArea) \\\n",
    "                            + scale(FullBath) + scale(Fireplaces) + C(PavedDrive) + scale(GarageArea)\"\n",
    "                                , data=df_test.iloc[:, 1:])\n",
    "    \n",
    "    cv_result = cv_model.fit()\n",
    "    \n",
    "    pred = np.exp(cv_result.predict(df_test))\n",
    "    rss = ((df_test.SalePrice - pred) ** 2).sum()\n",
    "    tss = ((df_test.SalePrice - df_test.SalePrice.mean()) ** 2).sum()\n",
    "    rsquared = 1 - rss / tss\n",
    "    \n",
    "    scores[i] = rsquared\n",
    "    print(\"train R2 = {:.8f}, test R2 = {:.8f}\".format(cv_result.rsquared, rsquared))"
   ]
  },
  {
   "cell_type": "markdown",
   "metadata": {
    "slideshow": {
     "slide_type": "slide"
    }
   },
   "source": [
    "#### 3) 모델의 신뢰도 확인\n",
    "\n",
    "- 실제값과 예측값 비교"
   ]
  },
  {
   "cell_type": "code",
   "execution_count": 15,
   "metadata": {
    "slideshow": {
     "slide_type": "fragment"
    }
   },
   "outputs": [
    {
     "data": {
      "image/png": "[encoded data removed]",
      "text/plain": [
       "<Figure size 576x360 with 1 Axes>"
      ]
     },
     "metadata": {
      "image/png": {
       "height": 324,
       "width": 533
      },
      "needs_background": "light"
     },
     "output_type": "display_data"
    }
   ],
   "source": [
    "plt.figure(figsize=(8, 5))\n",
    "plt.scatter(df['SalePrice'], np.exp(result.predict(df)))\n",
    "plt.xlabel('real value')\n",
    "plt.ylabel('predicted value')\n",
    "plt.show()"
   ]
  },
  {
   "cell_type": "markdown",
   "metadata": {
    "slideshow": {
     "slide_type": "slide"
    }
   },
   "source": [
    "- 실제값과 예측값의 상관계수"
   ]
  },
  {
   "cell_type": "code",
   "execution_count": 16,
   "metadata": {
    "slideshow": {
     "slide_type": "fragment"
    }
   },
   "outputs": [
    {
     "data": {
      "text/plain": [
       "0.9539567137232117"
      ]
     },
     "execution_count": 16,
     "metadata": {},
     "output_type": "execute_result"
    }
   ],
   "source": [
    "df['SalePrice'].corr(np.exp(result.predict(df)))"
   ]
  },
  {
   "cell_type": "markdown",
   "metadata": {
    "slideshow": {
     "slide_type": "slide"
    }
   },
   "source": [
    "- 잔차정규성 검증"
   ]
  },
  {
   "cell_type": "code",
   "execution_count": 17,
   "metadata": {
    "slideshow": {
     "slide_type": "fragment"
    }
   },
   "outputs": [
    {
     "data": {
      "image/png": "[encoded data removed]",
      "text/plain": [
       "<Figure size 576x360 with 1 Axes>"
      ]
     },
     "metadata": {
      "image/png": {
       "height": 337,
       "width": 513
      },
      "needs_background": "light"
     },
     "output_type": "display_data"
    }
   ],
   "source": [
    "# Q-Q plot\n",
    "plt.figure(figsize=(8, 5))\n",
    "sp.stats.probplot(result.resid, plot=plt)\n",
    "plt.show()"
   ]
  },
  {
   "cell_type": "markdown",
   "metadata": {
    "slideshow": {
     "slide_type": "slide"
    }
   },
   "source": [
    "### V 결론 : 신뢰성과 Performance를 균형있게 고려한 선형회귀 예측모델 구현 달성"
   ]
  }
 ],
 "metadata": {
  "celltoolbar": "Slideshow",
  "kernelspec": {
   "display_name": "Python 3",
   "language": "python",
   "name": "python3"
  },
  "language_info": {
   "codemirror_mode": {
    "name": "ipython",
    "version": 3
   },
   "file_extension": ".py",
   "mimetype": "text/x-python",
   "name": "python",
   "nbconvert_exporter": "python",
   "pygments_lexer": "ipython3",
   "version": "3.7.2"
  }
 },
 "nbformat": 4,
 "nbformat_minor": 2
}
